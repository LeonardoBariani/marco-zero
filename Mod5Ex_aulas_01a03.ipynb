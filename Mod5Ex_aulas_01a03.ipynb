{
 "cells": [
  {
   "cell_type": "markdown",
   "metadata": {},
   "source": [
    "# Módulo 5 Tarefa 1\n",
    "## Base de nascidos vivos do DataSUS\n",
    "O DataSUS disponibiliza diversos arquivos de dados com relação a seus segurados, conforme a [lei da transparência de informações públicas](https://www.sisgov.com/transparencia-acesso-informacao/#:~:text=A%20Lei%20da%20Transpar%C3%AAncia%20(LC,em%20um%20site%20na%20internet.). \n",
    "\n",
    "Essas informações podem ser obtidas pela internet [aqui](http://www2.datasus.gov.br/DATASUS/index.php?area=0901&item=1). Como o processo de obtenção desses arquivos foge um pouco do nosso escopo, deixamos o arquivo SINASC_RO_2019.csv` já como vai ser encontrado no DataSUS. O dicionário de dados está no arquivo `estrutura_sinasc_para_CD.pdf` (o nome do arquivo tal qual no portal do DataSUS).\n",
    "\n",
    "### Nosso objetivo\n",
    "Queremos deixar uma base organizada para podermos estudar a relação entre partos com risco para o bebê e algumas condições como tempo de parto, consultas de pré-natal etc.\n",
    "\n",
    "#### Preparação da base\n",
    "1. Carregue a base 'SINASC_RO_2019.csv'. Conte o número de registros e o número de registros não duplicados da base. Dica: você aprendeu um método que remove duplicados, encadeie este método com um outro método que conta o número de linhas. **Há linhas duplicadas?**  \n",
    "\n",
    "2. Conte o número de valores *missing* por variável.  \n",
    "\n",
    "3. Ok, no item anterior você deve ter achado pouco prático ler a informação de tantas variáveis, muitas delas nem devem ser interesantes. Então crie uma seleção dessa base somente com as colunas que interessam. São elas:\n",
    "` \n",
    "['LOCNASC', 'IDADEMAE', 'ESTCIVMAE', 'ESCMAE', 'QTDFILVIVO', \n",
    "    'GESTACAO', 'GRAVIDEZ', 'CONSULTAS', 'APGAR5'] \n",
    "`\n",
    "Refaça a contagem de valores *missings*.  \n",
    "\n",
    "4. Apgar é uma *nota* que o pediatra dá ao bebê quando nasce de acordo com algumas características associadas principalmente à respiração. Apgar 1 e Apgar 5 são as notas 1 e 5 minutos do nascimento. Apgar5 será a nossa variável de interesse principal. Então remova todos os registros com Apgar5 não preenchido. Para esta seleção, conte novamente o número de linhas e o número de *missings*.  \n",
    "\n",
    "5. observe que as variáveis `['ESTCIVMAE', 'CONSULTAS']` possuem o código `9`, que significa *ignorado*. Vamos assumir que o não preenchido é o mesmo que o código `9`.<br>\n",
    "6. Substitua os valores faltantes da quantitativa (`QTDFILVIVO`) por zero.  \n",
    "7. Das restantes, decida que valore te parece mais adequado (um 'não preenchido' ou um valor 'mais provável' como no item anterior) e preencha. Justifique. Lembre-se de que tratamento de dados é trabalho do cientista, e que estamos tomando decisões a todo o momento - não há necessariamente certo e errado aqui.  \n",
    "8. O Apgar possui uma classificação indicando se o bebê passou por asfixia:\n",
    "- Entre 8 e 10 está em uma faixa 'normal'. \n",
    "- Entre 6 e 7, significa que o recém-nascido passou por 'asfixia leve'. \n",
    "- Entre 4 e 5 significa 'asfixia moderada'.\n",
    "- Entre 0 e 3 significa 'asfixia severa'.  \n",
    "\n",
    "Crie uma categorização dessa variável com essa codificação e calcule as frequências dessa categorização.  \n",
    "<br>\n",
    "9. Renomeie as variáveis para que fiquem no *snake case*, ou seja, em letras minúsculas, com um *underscore* entre as palávras. Dica: repare que se você não quiser criar um *dataframe* novo, você vai precisar usar a opção `inplace = True`."
   ]
  },
  {
   "cell_type": "code",
   "execution_count": 2,
   "metadata": {},
   "outputs": [],
   "source": [
    "import pandas as pd\n",
    "import requests\n",
    "# aumentar a quantidade de linhas a serem visualizadas no display\n",
    "pd.set_option('display.max_rows', 100)"
   ]
  },
  {
   "cell_type": "code",
   "execution_count": 12,
   "metadata": {},
   "outputs": [
    {
     "name": "stdout",
     "output_type": "stream",
     "text": [
      "(27028, 69)\n"
     ]
    },
    {
     "data": {
      "text/plain": [
       "(27028, 69)"
      ]
     },
     "execution_count": 12,
     "metadata": {},
     "output_type": "execute_result"
    }
   ],
   "source": [
    "# 1) seu código aqui\n",
    "# leitura arquivo .csv\n",
    "sinasc = pd.read_csv('SINASC_RO_2019.csv')\n",
    "\n",
    "# contagem de linhas e colunas\n",
    "print(sinasc.shape)\n",
    "\n",
    "# contagem de linhas e colunas removendo os duplicados \n",
    "sinasc.drop_duplicates().shape"
   ]
  },
  {
   "cell_type": "code",
   "execution_count": 22,
   "metadata": {},
   "outputs": [
    {
     "data": {
      "text/plain": [
       "ORIGEM              0\n",
       "CODESTAB          115\n",
       "CODMUNNASC          0\n",
       "LOCNASC             0\n",
       "IDADEMAE            0\n",
       "ESTCIVMAE         317\n",
       "ESCMAE            312\n",
       "CODOCUPMAE       2907\n",
       "QTDFILVIVO       1573\n",
       "QTDFILMORT       2098\n",
       "CODMUNRES           0\n",
       "GESTACAO         1232\n",
       "GRAVIDEZ           79\n",
       "PARTO              49\n",
       "CONSULTAS           0\n",
       "DTNASC              0\n",
       "HORANASC           21\n",
       "SEXO                4\n",
       "APGAR1             96\n",
       "APGAR5            103\n",
       "RACACOR           647\n",
       "PESO                0\n",
       "IDANOMAL          591\n",
       "DTCADASTRO          0\n",
       "CODANOMAL       26814\n",
       "NUMEROLOTE          0\n",
       "VERSAOSIST          0\n",
       "DTRECEBIM           0\n",
       "DIFDATA             0\n",
       "DTRECORIGA      27028\n",
       "NATURALMAE        298\n",
       "CODMUNNATU        298\n",
       "CODUFNATU         298\n",
       "ESCMAE2010        249\n",
       "SERIESCMAE      12710\n",
       "DTNASCMAE          40\n",
       "RACACORMAE        661\n",
       "QTDGESTANT       1212\n",
       "QTDPARTNOR       1879\n",
       "QTDPARTCES       1791\n",
       "IDADEPAI        19421\n",
       "DTULTMENST      10072\n",
       "SEMAGESTAC       1238\n",
       "TPMETESTIM       1238\n",
       "CONSPRENAT        930\n",
       "MESPRENAT        2867\n",
       "TPAPRESENT        265\n",
       "STTRABPART        947\n",
       "STCESPARTO        747\n",
       "TPNASCASSI         61\n",
       "TPFUNCRESP         67\n",
       "TPDOCRESP          14\n",
       "DTDECLARAC         52\n",
       "ESCMAEAGR1        249\n",
       "STDNEPIDEM          0\n",
       "STDNNOVA            0\n",
       "CODPAISRES          0\n",
       "TPROBSON            0\n",
       "PARIDADE            0\n",
       "KOTELCHUCK          0\n",
       "CONTADOR            0\n",
       "munResStatus        0\n",
       "munResTipo          0\n",
       "munResNome          0\n",
       "munResUf            0\n",
       "munResLat           1\n",
       "munResLon           1\n",
       "munResAlt           1\n",
       "munResArea          1\n",
       "dtype: int64"
      ]
     },
     "execution_count": 22,
     "metadata": {},
     "output_type": "execute_result"
    }
   ],
   "source": [
    "# 2) seu código aqui\n",
    "# quantidade de dados ausentes (missing) por coluna\n",
    "series_dados_ausentes = sinasc.isna().sum()\n",
    "series_dados_ausentes"
   ]
  },
  {
   "cell_type": "code",
   "execution_count": 14,
   "metadata": {},
   "outputs": [
    {
     "data": {
      "text/plain": [
       "LOCNASC          0\n",
       "IDADEMAE         0\n",
       "ESTCIVMAE      317\n",
       "ESCMAE         312\n",
       "QTDFILVIVO    1573\n",
       "GESTACAO      1232\n",
       "GRAVIDEZ        79\n",
       "CONSULTAS        0\n",
       "APGAR5         103\n",
       "dtype: int64"
      ]
     },
     "execution_count": 14,
     "metadata": {},
     "output_type": "execute_result"
    }
   ],
   "source": [
    "# 3) seu código aqui\n",
    "# selecionando apenas algumas colunas ...\n",
    "sinasc_selecao = sinasc[['LOCNASC', 'IDADEMAE', 'ESTCIVMAE', 'ESCMAE', 'QTDFILVIVO',  'GESTACAO', 'GRAVIDEZ', 'CONSULTAS', 'APGAR5']]\n",
    "\n",
    "# quantidade de dados ausentes (missing) por coluna\n",
    "series_dados_ausentes_selecao = sinasc_selecao.isna().sum()\n",
    "series_dados_ausentes_selecao"
   ]
  },
  {
   "cell_type": "code",
   "execution_count": 22,
   "metadata": {},
   "outputs": [
    {
     "name": "stdout",
     "output_type": "stream",
     "text": [
      "(26925, 9)\n"
     ]
    },
    {
     "data": {
      "text/plain": [
       "LOCNASC          0\n",
       "IDADEMAE         0\n",
       "ESTCIVMAE      315\n",
       "ESCMAE         310\n",
       "QTDFILVIVO    1566\n",
       "GESTACAO      1216\n",
       "GRAVIDEZ        76\n",
       "CONSULTAS        0\n",
       "APGAR5           0\n",
       "dtype: int64"
      ]
     },
     "execution_count": 22,
     "metadata": {},
     "output_type": "execute_result"
    }
   ],
   "source": [
    "# 4) seu código aqui\n",
    "# removendo dados faltantes da coluna 'APGAR5'\n",
    "sinasc_selecao_apgar5 = sinasc_selecao.dropna(subset = ['APGAR5'])\n",
    "\n",
    "# tamanho dataframe após exclusão dos valores 'missing' da coluna 'APGAR5' (i x j)\n",
    "print(sinasc_selecao_apgar5.shape)\n",
    "\n",
    "# contagem de valores 'missing' para o df sem valores ausentes na coluna 'APGAR5'\n",
    "series_dados_não_ausentes_apgar5 = sinasc_selecao_apgar5.isna().sum()\n",
    "series_dados_não_ausentes_apgar5"
   ]
  },
  {
   "cell_type": "code",
   "execution_count": 26,
   "metadata": {},
   "outputs": [
    {
     "data": {
      "text/plain": [
       "LOCNASC          0\n",
       "IDADEMAE         0\n",
       "ESTCIVMAE      459\n",
       "ESCMAE         310\n",
       "QTDFILVIVO    1566\n",
       "GESTACAO      1216\n",
       "GRAVIDEZ        76\n",
       "CONSULTAS       50\n",
       "APGAR5           0\n",
       "dtype: int64"
      ]
     },
     "execution_count": 26,
     "metadata": {},
     "output_type": "execute_result"
    }
   ],
   "source": [
    "# 5) seu código aqui\n",
    "# substituir código '9' por NaN\n",
    "sinasc_selecao_apgar5.loc[:,'CONSULTAS'] = sinasc_selecao_apgar5.replace({9: None})\n",
    "sinasc_selecao_apgar5.loc[:,'ESTCIVMAE'] = sinasc_selecao_apgar5.replace({9.0: None})\n",
    "\n",
    "# contagem de valores 'missing' para o df\n",
    "series_dados_não_ausentes_apgar5 = sinasc_selecao_apgar5.isna().sum()\n",
    "series_dados_não_ausentes_apgar5"
   ]
  },
  {
   "cell_type": "code",
   "execution_count": 28,
   "metadata": {},
   "outputs": [],
   "source": [
    "# 6) Seu código aqui\n",
    "# substituir NaN por 0\n",
    "sinasc_selecao_apgar5.loc[:,'QTDFILVIVO'] = sinasc_selecao_apgar5['QTDFILVIVO'].fillna(0)"
   ]
  },
  {
   "cell_type": "code",
   "execution_count": 40,
   "metadata": {},
   "outputs": [
    {
     "name": "stderr",
     "output_type": "stream",
     "text": [
      "C:\\Users\\Leonardo Bariani\\AppData\\Local\\Temp\\ipykernel_47052\\141669969.py:8: FutureWarning: Downcasting object dtype arrays on .fillna, .ffill, .bfill is deprecated and will change in a future version. Call result.infer_objects(copy=False) instead. To opt-in to the future behavior, set `pd.set_option('future.no_silent_downcasting', True)`\n",
      "  sinasc_selecao_apgar5.loc[:,'ESTCIVMAE'] = sinasc_selecao_apgar5['ESTCIVMAE'].fillna(0)\n",
      "C:\\Users\\Leonardo Bariani\\AppData\\Local\\Temp\\ipykernel_47052\\141669969.py:12: FutureWarning: Downcasting object dtype arrays on .fillna, .ffill, .bfill is deprecated and will change in a future version. Call result.infer_objects(copy=False) instead. To opt-in to the future behavior, set `pd.set_option('future.no_silent_downcasting', True)`\n",
      "  sinasc_selecao_apgar5.loc[:,'CONSULTAS'] = sinasc_selecao_apgar5['CONSULTAS'].fillna(0)\n"
     ]
    },
    {
     "data": {
      "text/plain": [
       "LOCNASC       0\n",
       "IDADEMAE      0\n",
       "ESTCIVMAE     0\n",
       "ESCMAE        0\n",
       "QTDFILVIVO    0\n",
       "GESTACAO      0\n",
       "GRAVIDEZ      0\n",
       "CONSULTAS     0\n",
       "APGAR5        0\n",
       "dtype: int64"
      ]
     },
     "execution_count": 40,
     "metadata": {},
     "output_type": "execute_result"
    }
   ],
   "source": [
    "# 7) seu código aqui\n",
    "# ESCMAE | GESTACAO | GRAVIDEZ possuem código 9, tal como ESTCIVMAE | CONSULTAS. Substituir código 9 por 'None'\n",
    "sinasc_selecao_apgar5.loc[:,'ESCMAE'] = sinasc_selecao_apgar5.replace({9: None})\n",
    "sinasc_selecao_apgar5.loc[:,'GESTACAO'] = sinasc_selecao_apgar5.replace({9: None})\n",
    "sinasc_selecao_apgar5.loc[:,'GRAVIDEZ'] = sinasc_selecao_apgar5.replace({9: None})\n",
    "\n",
    "# Subsituir todos os valores 'None' | 'NaN' por 0\n",
    "sinasc_selecao_apgar5.loc[:,'ESTCIVMAE'] = sinasc_selecao_apgar5['ESTCIVMAE'].fillna(0)\n",
    "sinasc_selecao_apgar5.loc[:,'ESCMAE'] = sinasc_selecao_apgar5['ESCMAE'].fillna(0)\n",
    "sinasc_selecao_apgar5.loc[:,'GESTACAO'] = sinasc_selecao_apgar5['GESTACAO'].fillna(0)\n",
    "sinasc_selecao_apgar5.loc[:,'GRAVIDEZ'] = sinasc_selecao_apgar5['GRAVIDEZ'].fillna(0)\n",
    "sinasc_selecao_apgar5.loc[:,'CONSULTAS'] = sinasc_selecao_apgar5['CONSULTAS'].fillna(0)\n",
    "\n",
    "# contagem de valores 'missing' para o df\n",
    "series_dados_não_ausentes_apgar5 = sinasc_selecao_apgar5.isna().sum()\n",
    "series_dados_não_ausentes_apgar5"
   ]
  },
  {
   "cell_type": "code",
   "execution_count": 52,
   "metadata": {},
   "outputs": [
    {
     "name": "stdout",
     "output_type": "stream",
     "text": [
      "Tipos de faixa de asfixia pela nota APGAR5:  ['normal' 'asfixia leve' 'asfixia severa' 'asfixia moderada']\n"
     ]
    }
   ],
   "source": [
    "# 8) seu código aqui\n",
    "# categorizando a variável APGAR5\n",
    "sinasc_selecao_apgar5.loc[sinasc_selecao_apgar5['APGAR5'] >= 8.0, 'FAIXA_ASFIXIA'] = 'normal'\n",
    "sinasc_selecao_apgar5.loc[(sinasc_selecao_apgar5['APGAR5'] >= 6.0) & (sinasc_selecao_apgar5['APGAR5'] <= 7.0),\n",
    "           'FAIXA_ASFIXIA'] = 'asfixia leve'\n",
    "sinasc_selecao_apgar5.loc[(sinasc_selecao_apgar5['APGAR5'] >= 4.0) & (sinasc_selecao_apgar5['APGAR5'] <= 5.0),\n",
    "           'FAIXA_ASFIXIA'] = 'asfixia moderada'\n",
    "sinasc_selecao_apgar5.loc[(sinasc_selecao_apgar5['APGAR5'] <= 3.0), 'FAIXA_ASFIXIA'] = 'asfixia severa'\n",
    "\n",
    "print('Tipos de faixa de asfixia pela nota APGAR5: ', sinasc_selecao_apgar5['FAIXA_ASFIXIA'].unique())"
   ]
  },
  {
   "cell_type": "code",
   "execution_count": 60,
   "metadata": {},
   "outputs": [
    {
     "data": {
      "text/html": [
       "<div>\n",
       "<style scoped>\n",
       "    .dataframe tbody tr th:only-of-type {\n",
       "        vertical-align: middle;\n",
       "    }\n",
       "\n",
       "    .dataframe tbody tr th {\n",
       "        vertical-align: top;\n",
       "    }\n",
       "\n",
       "    .dataframe thead th {\n",
       "        text-align: right;\n",
       "    }\n",
       "</style>\n",
       "<table border=\"1\" class=\"dataframe\">\n",
       "  <thead>\n",
       "    <tr style=\"text-align: right;\">\n",
       "      <th></th>\n",
       "      <th>locnasc</th>\n",
       "      <th>idademae</th>\n",
       "      <th>estcivmae</th>\n",
       "      <th>escmae</th>\n",
       "      <th>qtdfilvivo</th>\n",
       "      <th>gestacao</th>\n",
       "      <th>gravidez</th>\n",
       "      <th>consultas</th>\n",
       "      <th>apgar5</th>\n",
       "      <th>faixa_asfixia</th>\n",
       "    </tr>\n",
       "  </thead>\n",
       "  <tbody>\n",
       "    <tr>\n",
       "      <th>0</th>\n",
       "      <td>1</td>\n",
       "      <td>19</td>\n",
       "      <td>5.0</td>\n",
       "      <td>8 a 11 anos</td>\n",
       "      <td>0.0</td>\n",
       "      <td>37 a 41 semanas</td>\n",
       "      <td>Única</td>\n",
       "      <td>4</td>\n",
       "      <td>10.0</td>\n",
       "      <td>normal</td>\n",
       "    </tr>\n",
       "    <tr>\n",
       "      <th>1</th>\n",
       "      <td>1</td>\n",
       "      <td>29</td>\n",
       "      <td>2.0</td>\n",
       "      <td>8 a 11 anos</td>\n",
       "      <td>1.0</td>\n",
       "      <td>37 a 41 semanas</td>\n",
       "      <td>Única</td>\n",
       "      <td>4</td>\n",
       "      <td>9.0</td>\n",
       "      <td>normal</td>\n",
       "    </tr>\n",
       "    <tr>\n",
       "      <th>2</th>\n",
       "      <td>1</td>\n",
       "      <td>37</td>\n",
       "      <td>0.0</td>\n",
       "      <td>8 a 11 anos</td>\n",
       "      <td>2.0</td>\n",
       "      <td>37 a 41 semanas</td>\n",
       "      <td>Única</td>\n",
       "      <td>4</td>\n",
       "      <td>10.0</td>\n",
       "      <td>normal</td>\n",
       "    </tr>\n",
       "    <tr>\n",
       "      <th>3</th>\n",
       "      <td>1</td>\n",
       "      <td>30</td>\n",
       "      <td>5.0</td>\n",
       "      <td>12 anos ou mais</td>\n",
       "      <td>0.0</td>\n",
       "      <td>37 a 41 semanas</td>\n",
       "      <td>Única</td>\n",
       "      <td>3</td>\n",
       "      <td>10.0</td>\n",
       "      <td>normal</td>\n",
       "    </tr>\n",
       "    <tr>\n",
       "      <th>4</th>\n",
       "      <td>1</td>\n",
       "      <td>30</td>\n",
       "      <td>2.0</td>\n",
       "      <td>8 a 11 anos</td>\n",
       "      <td>1.0</td>\n",
       "      <td>37 a 41 semanas</td>\n",
       "      <td>Única</td>\n",
       "      <td>4</td>\n",
       "      <td>10.0</td>\n",
       "      <td>normal</td>\n",
       "    </tr>\n",
       "    <tr>\n",
       "      <th>5</th>\n",
       "      <td>1</td>\n",
       "      <td>33</td>\n",
       "      <td>5.0</td>\n",
       "      <td>1 a 3 anos</td>\n",
       "      <td>2.0</td>\n",
       "      <td>37 a 41 semanas</td>\n",
       "      <td>Única</td>\n",
       "      <td>4</td>\n",
       "      <td>10.0</td>\n",
       "      <td>normal</td>\n",
       "    </tr>\n",
       "    <tr>\n",
       "      <th>6</th>\n",
       "      <td>1</td>\n",
       "      <td>37</td>\n",
       "      <td>1.0</td>\n",
       "      <td>8 a 11 anos</td>\n",
       "      <td>1.0</td>\n",
       "      <td>37 a 41 semanas</td>\n",
       "      <td>Única</td>\n",
       "      <td>4</td>\n",
       "      <td>10.0</td>\n",
       "      <td>normal</td>\n",
       "    </tr>\n",
       "    <tr>\n",
       "      <th>7</th>\n",
       "      <td>1</td>\n",
       "      <td>27</td>\n",
       "      <td>2.0</td>\n",
       "      <td>12 anos ou mais</td>\n",
       "      <td>0.0</td>\n",
       "      <td>37 a 41 semanas</td>\n",
       "      <td>Única</td>\n",
       "      <td>4</td>\n",
       "      <td>10.0</td>\n",
       "      <td>normal</td>\n",
       "    </tr>\n",
       "    <tr>\n",
       "      <th>8</th>\n",
       "      <td>1</td>\n",
       "      <td>20</td>\n",
       "      <td>5.0</td>\n",
       "      <td>8 a 11 anos</td>\n",
       "      <td>0.0</td>\n",
       "      <td>37 a 41 semanas</td>\n",
       "      <td>Única</td>\n",
       "      <td>3</td>\n",
       "      <td>9.0</td>\n",
       "      <td>normal</td>\n",
       "    </tr>\n",
       "    <tr>\n",
       "      <th>9</th>\n",
       "      <td>1</td>\n",
       "      <td>30</td>\n",
       "      <td>2.0</td>\n",
       "      <td>1 a 3 anos</td>\n",
       "      <td>1.0</td>\n",
       "      <td>37 a 41 semanas</td>\n",
       "      <td>Única</td>\n",
       "      <td>4</td>\n",
       "      <td>10.0</td>\n",
       "      <td>normal</td>\n",
       "    </tr>\n",
       "  </tbody>\n",
       "</table>\n",
       "</div>"
      ],
      "text/plain": [
       "   locnasc  idademae estcivmae           escmae  qtdfilvivo         gestacao  \\\n",
       "0        1        19       5.0      8 a 11 anos         0.0  37 a 41 semanas   \n",
       "1        1        29       2.0      8 a 11 anos         1.0  37 a 41 semanas   \n",
       "2        1        37       0.0      8 a 11 anos         2.0  37 a 41 semanas   \n",
       "3        1        30       5.0  12 anos ou mais         0.0  37 a 41 semanas   \n",
       "4        1        30       2.0      8 a 11 anos         1.0  37 a 41 semanas   \n",
       "5        1        33       5.0       1 a 3 anos         2.0  37 a 41 semanas   \n",
       "6        1        37       1.0      8 a 11 anos         1.0  37 a 41 semanas   \n",
       "7        1        27       2.0  12 anos ou mais         0.0  37 a 41 semanas   \n",
       "8        1        20       5.0      8 a 11 anos         0.0  37 a 41 semanas   \n",
       "9        1        30       2.0       1 a 3 anos         1.0  37 a 41 semanas   \n",
       "\n",
       "  gravidez consultas  apgar5 faixa_asfixia  \n",
       "0    Única         4    10.0        normal  \n",
       "1    Única         4     9.0        normal  \n",
       "2    Única         4    10.0        normal  \n",
       "3    Única         3    10.0        normal  \n",
       "4    Única         4    10.0        normal  \n",
       "5    Única         4    10.0        normal  \n",
       "6    Única         4    10.0        normal  \n",
       "7    Única         4    10.0        normal  \n",
       "8    Única         3     9.0        normal  \n",
       "9    Única         4    10.0        normal  "
      ]
     },
     "execution_count": 60,
     "metadata": {},
     "output_type": "execute_result"
    }
   ],
   "source": [
    "# 9) seu código aqui\n",
    "# renomeando as colunas para o formato 'snake case'\n",
    "sinasc_selecao_apgar5 = sinasc_selecao_apgar5.rename(str.lower, axis='columns')\n",
    "\n",
    "sinasc_selecao_apgar5.head(10)"
   ]
  }
 ],
 "metadata": {
  "kernelspec": {
   "display_name": "Python 3 (ipykernel)",
   "language": "python",
   "name": "python3"
  },
  "language_info": {
   "codemirror_mode": {
    "name": "ipython",
    "version": 3
   },
   "file_extension": ".py",
   "mimetype": "text/x-python",
   "name": "python",
   "nbconvert_exporter": "python",
   "pygments_lexer": "ipython3",
   "version": "3.12.4"
  }
 },
 "nbformat": 4,
 "nbformat_minor": 4
}
