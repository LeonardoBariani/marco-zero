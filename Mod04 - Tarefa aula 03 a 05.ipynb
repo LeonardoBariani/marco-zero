{
 "cells": [
  {
   "cell_type": "markdown",
   "metadata": {
    "id": "njUvbhQmC8-t"
   },
   "source": [
    "## Exercício 1: Vestibular\n",
    "\n",
    "Considere que a os dados gerados na célula abaixo contêm o número de acertos de 100 alunos em um vestibular para um curso de exatas, divididas pelos respectivos assuntos. Considere que cada assunto possui um número de questões conforme a tabela abaixo:\n",
    "\n",
    "| assunto | número de questões |\n",
    "|:---:|:---:|\n",
    "| Matemática | 24 |\n",
    "| Português | 18 |\n",
    "| Geografia | 8 |\n",
    "| Inglês | 8 |\n",
    "| História | 8 |\n",
    "| Física | 12 |\n",
    "| Química | 12 |\n",
    "\n",
    "Usando os comandos de operações com DataFrames que você aprendeu na Aula 03, calcule:\n",
    "\n",
    "1. (operações com escalar) Calcule o percentual de acerto dos alunos por assunto.  \n",
    "2. (operações entre *DataFrames) Calcule o total de acertos de cada aluno.  \n",
    "3. Calcule o porcentual geral de cada aluno.  \n",
    "4. Suponha que a nota de corte para a segunda fase seja 45. Quantos alunos tiveram nota maior que 45?  "
   ]
  },
  {
   "cell_type": "code",
   "execution_count": 2,
   "metadata": {
    "id": "Ll6TadxCC8-y"
   },
   "outputs": [],
   "source": [
    "import pandas as pd\n",
    "import numpy as np\n",
    "\n",
    "np.random.seed(42)\n",
    "df_mat = pd.DataFrame(np.random.randint(24, size=(100, 1)), columns=['Qt_acertos'])\n",
    "df_por = pd.DataFrame(np.random.randint(18, size=(100, 1)), columns=['Qt_acertos'])\n",
    "df_geo = pd.DataFrame(np.random.randint(8, size=(100, 1)), columns=['Qt_acertos'])\n",
    "df_ing = pd.DataFrame(np.random.randint(8, size=(100, 1)), columns=['Qt_acertos'])\n",
    "df_his = pd.DataFrame(np.random.randint(8, size=(100, 1)), columns=['Qt_acertos'])\n",
    "df_fis = pd.DataFrame(np.random.randint(12, size=(100, 1)), columns=['Qt_acertos'])\n",
    "df_qui = pd.DataFrame(np.random.randint(12, size=(100, 1)), columns=['Qt_acertos'])"
   ]
  },
  {
   "cell_type": "code",
   "execution_count": 4,
   "metadata": {
    "id": "JVmLXiC2C8-0"
   },
   "outputs": [],
   "source": [
    "# 1) Seu código aqui\n",
    "# declaração da quantidade de perguntas por discplina\n",
    "total_questoes_mat = 24\n",
    "total_questoes_por = 18\n",
    "total_questoes_geo = 8\n",
    "total_questoes_ing = 8\n",
    "total_questoes_his = 8\n",
    "total_questoes_fis = 12\n",
    "total_questoes_qui = 12\n",
    "\n",
    "# cálculo do percentual de acertos de cada disciplina por aluno\n",
    "df_mat['Perc_acertos'] = df_mat['Qt_acertos'] / total_questoes_mat\n",
    "df_por['Perc_acertos'] = df_por['Qt_acertos'] / total_questoes_por\n",
    "df_geo['Perc_acertos'] = df_geo['Qt_acertos'] / total_questoes_geo\n",
    "df_ing['Perc_acertos'] = df_ing['Qt_acertos'] / total_questoes_ing\n",
    "df_his['Perc_acertos'] = df_his['Qt_acertos'] / total_questoes_his\n",
    "df_fis['Perc_acertos'] = df_fis['Qt_acertos'] / total_questoes_fis\n",
    "df_qui['Perc_acertos'] = df_qui['Qt_acertos'] / total_questoes_qui"
   ]
  },
  {
   "cell_type": "code",
   "execution_count": 6,
   "metadata": {
    "id": "JbTwCyNHC8-1"
   },
   "outputs": [],
   "source": [
    "# 2) Seu código aqui\n",
    "# cálculo do total de acertos de todas as discplinas por aluno\n",
    "df_total = df_mat + df_por + df_geo + df_ing + df_his + df_fis + df_qui"
   ]
  },
  {
   "cell_type": "code",
   "execution_count": 8,
   "metadata": {
    "id": "c2L8dJkVC8-3"
   },
   "outputs": [],
   "source": [
    "# 3) Seu código aqui\n",
    "# cálculo do total de questões\n",
    "total_questoes = total_questoes_mat + total_questoes_por + total_questoes_geo + total_questoes_ing + total_questoes_his + total_questoes_fis + total_questoes_qui\n",
    "# cálculo do percentual de acertos total por aluno\n",
    "df_total['Perc_acertos'] = df_total['Qt_acertos'] / total_questoes"
   ]
  },
  {
   "cell_type": "code",
   "execution_count": 10,
   "metadata": {
    "id": "PZTZ7DFzC8-3"
   },
   "outputs": [
    {
     "name": "stdout",
     "output_type": "stream",
     "text": [
      "47\n"
     ]
    }
   ],
   "source": [
    "# 4) Seu código aqui\n",
    "# filtro de nota de corte tendo como base o percentual de acertos (> 0,45)\n",
    "df_nota_corte = df_total.loc[df_total['Perc_acertos'] > 0.45]\n",
    "# marcação da quantidade de aprovados a partir da nota de corte\n",
    "quantidade_aprovados = len(df_nota_corte.index)\n",
    "print(quantidade_aprovados)"
   ]
  },
  {
   "cell_type": "markdown",
   "metadata": {
    "id": "Hlfl75XXC8-4"
   },
   "source": [
    "## 2) Vestibular II\n",
    "\n",
    "Ainda sobre o mesmo banco de dados:\n",
    "\n",
    "1. Neste vestibular, quem 'zera' em matemática, física ou química está desqualificado. Monte um novo *DataFrame* com os alunos desqualificados por este critério.\n",
    "2. Quantos são esses alunos?\n",
    "3. Qual a média desses alunos em história e geografia?\n",
    "4. Monte um *DataFrame* com os alunos que passaram para a segunda fase. Repare que estes alunos não podem ter sido desqualificados."
   ]
  },
  {
   "cell_type": "code",
   "execution_count": 12,
   "metadata": {},
   "outputs": [
    {
     "name": "stdout",
     "output_type": "stream",
     "text": [
      "    Qt_acertos  Perc_acertos\n",
      "25           0           0.0\n",
      "94           0           0.0\n",
      "98           0           0.0\n",
      "3            0           0.0\n",
      "6            0           0.0\n",
      "12           0           0.0\n",
      "26           0           0.0\n",
      "35           0           0.0\n",
      "49           0           0.0\n",
      "56           0           0.0\n",
      "65           0           0.0\n",
      "66           0           0.0\n",
      "72           0           0.0\n",
      "73           0           0.0\n",
      "84           0           0.0\n",
      "10           0           0.0\n",
      "14           0           0.0\n",
      "20           0           0.0\n",
      "26           0           0.0\n",
      "27           0           0.0\n",
      "33           0           0.0\n",
      "74           0           0.0\n",
      "89           0           0.0\n",
      "92           0           0.0\n",
      "-------------------------------\n",
      "24\n"
     ]
    }
   ],
   "source": [
    "# 1) e 2) Seu código aqui\n",
    "# filtro dos alunos que não acertaram nenhuma questão de exatas (matemática, física e química)\n",
    "df_mat_desqualificado = df_mat.loc[df_mat['Qt_acertos'] == 0]\n",
    "df_fis_desqualificado = df_fis.loc[df_fis['Qt_acertos'] == 0]\n",
    "df_qui_desqualificado = df_qui.loc[df_qui['Qt_acertos'] == 0]\n",
    "\n",
    "# criação de um DataFrame empilhado a partir dos DataFrames de desqualificação de exatas\n",
    "df_total_desqualificado = pd.concat([df_mat_desqualificado, df_fis_desqualificado, df_qui_desqualificado])\n",
    "df_total_desqualificado.drop_duplicates()\n",
    "print(df_total_desqualificado)\n",
    "\n",
    "# marcação da quantidade de desqualificados\n",
    "quantidade_desqualificados = len(df_total_desqualificado.index)\n",
    "quantidade_desqualificados\n",
    "print('-------------------------------')\n",
    "print(quantidade_desqualificados)"
   ]
  },
  {
   "cell_type": "code",
   "execution_count": 14,
   "metadata": {
    "id": "hPaMGXvJC8-4"
   },
   "outputs": [
    {
     "name": "stdout",
     "output_type": "stream",
     "text": [
      "0.4479166666666667\n",
      "0.4166666666666667\n"
     ]
    }
   ],
   "source": [
    "# 3) Seu código aqui\n",
    "# inner join dos alunos desqualificados para captura da quantidade e percentual de acertos das disciplinas de história e geografia\n",
    "df_desqualificado_his = pd.merge(df_total_desqualificado, df_his, left_index = True, right_index = True)\n",
    "df_desqualificado_his = df_desqualificado_his.rename(columns = {'Qt_acertos_x': 'Qt_acertos_exatas', 'Perc_acertos_x': 'Perc_acertos_exatas', 'Qt_acertos_y': 'Qt_acertos_his', 'Perc_acertos_y': 'Perc_acertos_his'})\n",
    "df_desqualificado_geo = pd.merge(df_total_desqualificado, df_geo, left_index = True, right_index = True)\n",
    "df_desqualificado_geo = df_desqualificado_geo.rename(columns = {'Qt_acertos_x': 'Qt_acertos_exatas', 'Perc_acertos_x': 'Perc_acertos_exatas', 'Qt_acertos_y': 'Qt_acertos_geo', 'Perc_acertos_y': 'Perc_acertos_geo'})\n",
    "\n",
    "# cálculo da média de percentual de acertos de história e geografia dos alunos desqualificados\n",
    "print(df_desqualificado_his['Perc_acertos_his'].mean())\n",
    "print(df_desqualificado_geo['Perc_acertos_geo'].mean())"
   ]
  },
  {
   "cell_type": "code",
   "execution_count": 16,
   "metadata": {},
   "outputs": [],
   "source": [
    "# 4) Seu código aqui\n",
    "indices_df_nota_corte = df_nota_corte.index\n",
    "df_segunda_fase = df_nota_corte[df_nota_corte['Qt_acertos'].index.isin(indices_df_nota_corte)]"
   ]
  },
  {
   "cell_type": "markdown",
   "metadata": {
    "id": "EGBUWpAHC8-5"
   },
   "source": [
    "## 3) Vacinações no Acre\n",
    "Vamos trabalhar agora com a base de vacinações no Acre. Para facilitar a sua vida, copiamos o link do arquivo na célula abaixo.\n",
    "\n",
    "1. Quantas vacinas estão registradas nessa base?  \n",
    "2. Quantos pacientes foram vacinados? (considere um paciente para cada valor único de ```paciente_id```)  \n",
    "3. Quantos pacientes únicos tomaram a primeira dose? OBS: Há um caractere especial neste campo. Receba os valores do campo com o método ```.unique()```.   \n",
    "4. Quantos pacientes com menos de 18 anos foram vacinados?  \n",
    "5. Quantos estabelecimentos aplicaram vacina no Acre?\n",
    "\n",
    "\n",
    "**OBS:** O portal do DATASUS pode apresentar instabilidades, retornando um erro na segunda célula abaixo. Por este motivo está disponível uma base estática, que se for baixada para o seu *working directory* pode ser lida com este comando: ```df = pd.read_csv('registros de vacinacao covid ACRE.csv', sep=';')```.\n",
    "\n",
    "**OBS2:** Para saber qual é o seu working directory, rode no jupyter: ```!pwd```."
   ]
  },
  {
   "cell_type": "code",
   "execution_count": 24,
   "metadata": {
    "id": "ET4r139hC8-5"
   },
   "outputs": [],
   "source": [
    "arquivo = 'https://s3.sa-east-1.amazonaws.com/ckan.saude.gov.br/SIPNI/COVID/uf/uf%3DAC/part-00000-d3ee4571-2459-48fe-bbca-55bd7a65aa5a.c000.csv'"
   ]
  },
  {
   "cell_type": "code",
   "execution_count": 26,
   "metadata": {},
   "outputs": [],
   "source": [
    "vacinacao_acre = pd.read_csv(arquivo, sep = ';')"
   ]
  },
  {
   "cell_type": "code",
   "execution_count": 27,
   "metadata": {},
   "outputs": [
    {
     "data": {
      "text/html": [
       "<div>\n",
       "<style scoped>\n",
       "    .dataframe tbody tr th:only-of-type {\n",
       "        vertical-align: middle;\n",
       "    }\n",
       "\n",
       "    .dataframe tbody tr th {\n",
       "        vertical-align: top;\n",
       "    }\n",
       "\n",
       "    .dataframe thead th {\n",
       "        text-align: right;\n",
       "    }\n",
       "</style>\n",
       "<table border=\"1\" class=\"dataframe\">\n",
       "  <thead>\n",
       "    <tr style=\"text-align: right;\">\n",
       "      <th></th>\n",
       "      <th>document_id</th>\n",
       "      <th>paciente_id</th>\n",
       "      <th>paciente_idade</th>\n",
       "      <th>paciente_dataNascimento</th>\n",
       "      <th>paciente_enumSexoBiologico</th>\n",
       "      <th>paciente_racaCor_codigo</th>\n",
       "      <th>paciente_racaCor_valor</th>\n",
       "      <th>paciente_endereco_coIbgeMunicipio</th>\n",
       "      <th>paciente_endereco_coPais</th>\n",
       "      <th>paciente_endereco_nmMunicipio</th>\n",
       "      <th>...</th>\n",
       "      <th>vacina_categoria_codigo</th>\n",
       "      <th>vacina_categoria_nome</th>\n",
       "      <th>vacina_lote</th>\n",
       "      <th>vacina_fabricante_nome</th>\n",
       "      <th>vacina_fabricante_referencia</th>\n",
       "      <th>vacina_dataAplicacao</th>\n",
       "      <th>vacina_descricao_dose</th>\n",
       "      <th>vacina_codigo</th>\n",
       "      <th>vacina_nome</th>\n",
       "      <th>sistema_origem</th>\n",
       "    </tr>\n",
       "  </thead>\n",
       "  <tbody>\n",
       "    <tr>\n",
       "      <th>0</th>\n",
       "      <td>be326d7c-dcde-400e-a701-b4ffed4039fe-i0b0</td>\n",
       "      <td>a7debef33553c6eabb36cd08eb6592761ef81e63766587...</td>\n",
       "      <td>12</td>\n",
       "      <td>2009-12-29</td>\n",
       "      <td>M</td>\n",
       "      <td>3</td>\n",
       "      <td>PARDA</td>\n",
       "      <td>352050.0</td>\n",
       "      <td>10.0</td>\n",
       "      <td>INDAIATUBA</td>\n",
       "      <td>...</td>\n",
       "      <td>2.0</td>\n",
       "      <td>Faixa Etária</td>\n",
       "      <td>220250</td>\n",
       "      <td>SINOVAC/BUTANTAN</td>\n",
       "      <td>152</td>\n",
       "      <td>2022-11-10</td>\n",
       "      <td>2ª Dose</td>\n",
       "      <td>86</td>\n",
       "      <td>COVID-19 SINOVAC/BUTANTAN - CORONAVAC</td>\n",
       "      <td>Novo PNI</td>\n",
       "    </tr>\n",
       "    <tr>\n",
       "      <th>1</th>\n",
       "      <td>517dd32f-238f-495f-ae41-1ecf2ef04b32-i0b0</td>\n",
       "      <td>c465713191ddb4c41ff9c7478b91183d8438e42b8dc0af...</td>\n",
       "      <td>29</td>\n",
       "      <td>1992-04-12</td>\n",
       "      <td>F</td>\n",
       "      <td>3</td>\n",
       "      <td>PARDA</td>\n",
       "      <td>120035.0</td>\n",
       "      <td>10.0</td>\n",
       "      <td>MARECHAL THAUMATURGO</td>\n",
       "      <td>...</td>\n",
       "      <td>2.0</td>\n",
       "      <td>Faixa Etária</td>\n",
       "      <td>214VCD053W</td>\n",
       "      <td>ASTRAZENECA/FIOCRUZ</td>\n",
       "      <td>Organization/33781055000135</td>\n",
       "      <td>2021-07-27</td>\n",
       "      <td>1ª Dose</td>\n",
       "      <td>85</td>\n",
       "      <td>COVID-19 ASTRAZENECA/FIOCRUZ - COVISHIELD</td>\n",
       "      <td>Novo PNI</td>\n",
       "    </tr>\n",
       "    <tr>\n",
       "      <th>2</th>\n",
       "      <td>e590a0b2-dc59-49e0-a6c2-115e9410cf2c-i0b0</td>\n",
       "      <td>ccd2911169a073c71cd7144800c81c6391ad43c31df97f...</td>\n",
       "      <td>12</td>\n",
       "      <td>2010-02-09</td>\n",
       "      <td>F</td>\n",
       "      <td>1</td>\n",
       "      <td>BRANCA</td>\n",
       "      <td>120040.0</td>\n",
       "      <td>10.0</td>\n",
       "      <td>RIO BRANCO</td>\n",
       "      <td>...</td>\n",
       "      <td>NaN</td>\n",
       "      <td>NaN</td>\n",
       "      <td>FP8290</td>\n",
       "      <td>PFIZER - PEDI?TRICA</td>\n",
       "      <td>28290</td>\n",
       "      <td>2022-03-21</td>\n",
       "      <td>2ª Dose</td>\n",
       "      <td>99</td>\n",
       "      <td>COVID-19 PEDIÁTRICA - PFIZER COMIRNATY</td>\n",
       "      <td>Novo PNI</td>\n",
       "    </tr>\n",
       "    <tr>\n",
       "      <th>3</th>\n",
       "      <td>51bfb21e-babb-4287-a626-750e0b60aab9-i0b0</td>\n",
       "      <td>e6ebf3f8ed6f73fd3a0edc786854b5914a8b6746ea3005...</td>\n",
       "      <td>80</td>\n",
       "      <td>1943-11-09</td>\n",
       "      <td>F</td>\n",
       "      <td>1</td>\n",
       "      <td>BRANCA</td>\n",
       "      <td>120040.0</td>\n",
       "      <td>10.0</td>\n",
       "      <td>RIO BRANCO</td>\n",
       "      <td>...</td>\n",
       "      <td>2.0</td>\n",
       "      <td>Faixa Etária</td>\n",
       "      <td>GJ9239</td>\n",
       "      <td>PFIZER</td>\n",
       "      <td>28290</td>\n",
       "      <td>2024-01-31</td>\n",
       "      <td>1ª Dose</td>\n",
       "      <td>103</td>\n",
       "      <td>COVID-19 PFIZER - COMIRNATY BIVALENTE</td>\n",
       "      <td>Novo PNI</td>\n",
       "    </tr>\n",
       "    <tr>\n",
       "      <th>4</th>\n",
       "      <td>fb33ca3c-9b53-4644-88e8-96a7a2328aa5-i0b0</td>\n",
       "      <td>75dc8ecd7c7d69e288d6166fa4317a32ed6e61923ac43e...</td>\n",
       "      <td>32</td>\n",
       "      <td>1988-12-18</td>\n",
       "      <td>F</td>\n",
       "      <td>3</td>\n",
       "      <td>PARDA</td>\n",
       "      <td>120020.0</td>\n",
       "      <td>10.0</td>\n",
       "      <td>CRUZEIRO DO SUL</td>\n",
       "      <td>...</td>\n",
       "      <td>2.0</td>\n",
       "      <td>Faixa Etária</td>\n",
       "      <td>FF5107</td>\n",
       "      <td>PFIZER</td>\n",
       "      <td>Organization/00394544000851</td>\n",
       "      <td>2021-09-14</td>\n",
       "      <td>1ª Dose</td>\n",
       "      <td>87</td>\n",
       "      <td>COVID-19 PFIZER - COMIRNATY</td>\n",
       "      <td>Novo PNI</td>\n",
       "    </tr>\n",
       "  </tbody>\n",
       "</table>\n",
       "<p>5 rows × 32 columns</p>\n",
       "</div>"
      ],
      "text/plain": [
       "                                 document_id  \\\n",
       "0  be326d7c-dcde-400e-a701-b4ffed4039fe-i0b0   \n",
       "1  517dd32f-238f-495f-ae41-1ecf2ef04b32-i0b0   \n",
       "2  e590a0b2-dc59-49e0-a6c2-115e9410cf2c-i0b0   \n",
       "3  51bfb21e-babb-4287-a626-750e0b60aab9-i0b0   \n",
       "4  fb33ca3c-9b53-4644-88e8-96a7a2328aa5-i0b0   \n",
       "\n",
       "                                         paciente_id  paciente_idade  \\\n",
       "0  a7debef33553c6eabb36cd08eb6592761ef81e63766587...              12   \n",
       "1  c465713191ddb4c41ff9c7478b91183d8438e42b8dc0af...              29   \n",
       "2  ccd2911169a073c71cd7144800c81c6391ad43c31df97f...              12   \n",
       "3  e6ebf3f8ed6f73fd3a0edc786854b5914a8b6746ea3005...              80   \n",
       "4  75dc8ecd7c7d69e288d6166fa4317a32ed6e61923ac43e...              32   \n",
       "\n",
       "  paciente_dataNascimento paciente_enumSexoBiologico  paciente_racaCor_codigo  \\\n",
       "0              2009-12-29                          M                        3   \n",
       "1              1992-04-12                          F                        3   \n",
       "2              2010-02-09                          F                        1   \n",
       "3              1943-11-09                          F                        1   \n",
       "4              1988-12-18                          F                        3   \n",
       "\n",
       "  paciente_racaCor_valor  paciente_endereco_coIbgeMunicipio  \\\n",
       "0                  PARDA                           352050.0   \n",
       "1                  PARDA                           120035.0   \n",
       "2                 BRANCA                           120040.0   \n",
       "3                 BRANCA                           120040.0   \n",
       "4                  PARDA                           120020.0   \n",
       "\n",
       "   paciente_endereco_coPais paciente_endereco_nmMunicipio  ...  \\\n",
       "0                      10.0                    INDAIATUBA  ...   \n",
       "1                      10.0          MARECHAL THAUMATURGO  ...   \n",
       "2                      10.0                    RIO BRANCO  ...   \n",
       "3                      10.0                    RIO BRANCO  ...   \n",
       "4                      10.0               CRUZEIRO DO SUL  ...   \n",
       "\n",
       "  vacina_categoria_codigo vacina_categoria_nome  vacina_lote  \\\n",
       "0                     2.0          Faixa Etária       220250   \n",
       "1                     2.0          Faixa Etária   214VCD053W   \n",
       "2                     NaN                   NaN       FP8290   \n",
       "3                     2.0          Faixa Etária       GJ9239   \n",
       "4                     2.0          Faixa Etária       FF5107   \n",
       "\n",
       "  vacina_fabricante_nome  vacina_fabricante_referencia vacina_dataAplicacao  \\\n",
       "0       SINOVAC/BUTANTAN                           152           2022-11-10   \n",
       "1    ASTRAZENECA/FIOCRUZ   Organization/33781055000135           2021-07-27   \n",
       "2    PFIZER - PEDI?TRICA                         28290           2022-03-21   \n",
       "3                 PFIZER                         28290           2024-01-31   \n",
       "4                 PFIZER   Organization/00394544000851           2021-09-14   \n",
       "\n",
       "  vacina_descricao_dose  vacina_codigo  \\\n",
       "0               2ª Dose             86   \n",
       "1               1ª Dose             85   \n",
       "2               2ª Dose             99   \n",
       "3               1ª Dose            103   \n",
       "4               1ª Dose             87   \n",
       "\n",
       "                                 vacina_nome sistema_origem  \n",
       "0      COVID-19 SINOVAC/BUTANTAN - CORONAVAC       Novo PNI  \n",
       "1  COVID-19 ASTRAZENECA/FIOCRUZ - COVISHIELD       Novo PNI  \n",
       "2     COVID-19 PEDIÁTRICA - PFIZER COMIRNATY       Novo PNI  \n",
       "3      COVID-19 PFIZER - COMIRNATY BIVALENTE       Novo PNI  \n",
       "4                COVID-19 PFIZER - COMIRNATY       Novo PNI  \n",
       "\n",
       "[5 rows x 32 columns]"
      ]
     },
     "execution_count": 27,
     "metadata": {},
     "output_type": "execute_result"
    }
   ],
   "source": [
    "# cinco primeiras linha para análise da base\n",
    "vacinacao_acre.head(5)"
   ]
  },
  {
   "cell_type": "code",
   "execution_count": 30,
   "metadata": {
    "id": "SC9YMWLSC8-6"
   },
   "outputs": [
    {
     "name": "stdout",
     "output_type": "stream",
     "text": [
      "388110\n"
     ]
    }
   ],
   "source": [
    "# 1) Seu código aqui\n",
    "# quantidade de vacinas = quantidade de linhas da base \n",
    "quantidade_vacinas = len(vacinacao_acre.index)\n",
    "print(quantidade_vacinas)"
   ]
  },
  {
   "cell_type": "code",
   "execution_count": 32,
   "metadata": {
    "id": "PMztY1RlC8-7"
   },
   "outputs": [
    {
     "name": "stdout",
     "output_type": "stream",
     "text": [
      "317139\n"
     ]
    }
   ],
   "source": [
    "# 2) Seu código aqui\n",
    "# quantidade unica de pacientes que tomaram vacina\n",
    "quantidade_pacientes = vacinacao_acre['paciente_id'].nunique()\n",
    "print(quantidade_pacientes)"
   ]
  },
  {
   "cell_type": "code",
   "execution_count": 34,
   "metadata": {
    "id": "V_wr--3JC8-7"
   },
   "outputs": [
    {
     "name": "stdout",
     "output_type": "stream",
     "text": [
      "143330\n"
     ]
    }
   ],
   "source": [
    "# 3) Seu código aqui\n",
    "# filtro da 1° dose\n",
    "vacinacao_acre_1_dose = vacinacao_acre.loc[vacinacao_acre['vacina_descricao_dose'] == '1ª Dose']\n",
    "# quantidade unica de pacientes que tomaram a 1° dose da vacina\n",
    "quantidade_pacientes_1_dose = vacinacao_acre_1_dose['paciente_id'].nunique()\n",
    "print(quantidade_pacientes_1_dose)"
   ]
  },
  {
   "cell_type": "code",
   "execution_count": 36,
   "metadata": {
    "id": "S6ab9ExEC8-7"
   },
   "outputs": [
    {
     "name": "stdout",
     "output_type": "stream",
     "text": [
      "68713\n"
     ]
    }
   ],
   "source": [
    "# 4) Seu código aqui\n",
    "# filtro por idade dos pacientes\n",
    "vacinacao_acre_menor_18 = vacinacao_acre.loc[vacinacao_acre['paciente_idade'] < 18]\n",
    "# quantidade unica dos pacientes com idade menor que 18 anos\n",
    "quantidade_pacientes_menor_18 = vacinacao_acre_menor_18['paciente_id'].nunique()\n",
    "print(quantidade_pacientes_menor_18)"
   ]
  },
  {
   "cell_type": "code",
   "execution_count": 44,
   "metadata": {},
   "outputs": [
    {
     "name": "stdout",
     "output_type": "stream",
     "text": [
      "13\n"
     ]
    }
   ],
   "source": [
    "# 5) Seu código aqui\n",
    "# quantidade unica dos estabelecimentos - fabricantes de vacinas\n",
    "quantidade_fabricantes = vacinacao_acre['vacina_fabricante_nome'].nunique()\n",
    "print(quantidade_fabricantes)"
   ]
  },
  {
   "cell_type": "markdown",
   "metadata": {
    "id": "LH1LSYvGC8-8"
   },
   "source": [
    "## 4) Vacinação II\n",
    "Gere um *DataFrame* que contenha somente os estabelecimentos que aplicaram vcinas a menores de 18 anos. Nesse *DataFrame* devem conter somente os dados dos estabelecimentos, mais uma coluna sendo a quantidade de vacinas que o estabelecimento aplicou a menores de 18 anos.  \n",
    "  \n",
    "1. crie uma cópia do *DataFrame* original, contendo somente os registros de vacinas realizadas a menores de 18 anos.  \n",
    "2. crie uma lista das colunas desse *DataFrame* com o atributo de *DataFrame* **.columns()**  \n",
    "3. Nesse *DataFrame* faça uma contagem do campo ```vacina_categoria_nome```.\n",
    "3. a partir da lista de colunas, escolha somente aquelas que são referentes ao estabelecimento, faça uma lista com esses valores.  \n",
    "4. usando o método *.loc*, selecione somente essas variáveis  \n",
    "5. Aplique o método **.drop_duplicates** e crie uma lista com uma linha para cada estabelecimento, com os dados do estabelecimento  "
   ]
  },
  {
   "cell_type": "code",
   "execution_count": 48,
   "metadata": {
    "id": "3ojs12vUC8-8"
   },
   "outputs": [
    {
     "data": {
      "text/html": [
       "<div>\n",
       "<style scoped>\n",
       "    .dataframe tbody tr th:only-of-type {\n",
       "        vertical-align: middle;\n",
       "    }\n",
       "\n",
       "    .dataframe tbody tr th {\n",
       "        vertical-align: top;\n",
       "    }\n",
       "\n",
       "    .dataframe thead th {\n",
       "        text-align: right;\n",
       "    }\n",
       "</style>\n",
       "<table border=\"1\" class=\"dataframe\">\n",
       "  <thead>\n",
       "    <tr style=\"text-align: right;\">\n",
       "      <th></th>\n",
       "      <th>document_id</th>\n",
       "      <th>paciente_id</th>\n",
       "      <th>paciente_idade</th>\n",
       "      <th>paciente_dataNascimento</th>\n",
       "      <th>paciente_enumSexoBiologico</th>\n",
       "      <th>paciente_racaCor_codigo</th>\n",
       "      <th>paciente_racaCor_valor</th>\n",
       "      <th>paciente_endereco_coIbgeMunicipio</th>\n",
       "      <th>paciente_endereco_coPais</th>\n",
       "      <th>paciente_endereco_nmMunicipio</th>\n",
       "      <th>...</th>\n",
       "      <th>vacina_categoria_codigo</th>\n",
       "      <th>vacina_categoria_nome</th>\n",
       "      <th>vacina_lote</th>\n",
       "      <th>vacina_fabricante_nome</th>\n",
       "      <th>vacina_fabricante_referencia</th>\n",
       "      <th>vacina_dataAplicacao</th>\n",
       "      <th>vacina_descricao_dose</th>\n",
       "      <th>vacina_codigo</th>\n",
       "      <th>vacina_nome</th>\n",
       "      <th>sistema_origem</th>\n",
       "    </tr>\n",
       "  </thead>\n",
       "  <tbody>\n",
       "    <tr>\n",
       "      <th>0</th>\n",
       "      <td>be326d7c-dcde-400e-a701-b4ffed4039fe-i0b0</td>\n",
       "      <td>a7debef33553c6eabb36cd08eb6592761ef81e63766587...</td>\n",
       "      <td>12</td>\n",
       "      <td>2009-12-29</td>\n",
       "      <td>M</td>\n",
       "      <td>3</td>\n",
       "      <td>PARDA</td>\n",
       "      <td>352050.0</td>\n",
       "      <td>10.0</td>\n",
       "      <td>INDAIATUBA</td>\n",
       "      <td>...</td>\n",
       "      <td>2.0</td>\n",
       "      <td>Faixa Etária</td>\n",
       "      <td>220250</td>\n",
       "      <td>SINOVAC/BUTANTAN</td>\n",
       "      <td>152</td>\n",
       "      <td>2022-11-10</td>\n",
       "      <td>2ª Dose</td>\n",
       "      <td>86</td>\n",
       "      <td>COVID-19 SINOVAC/BUTANTAN - CORONAVAC</td>\n",
       "      <td>Novo PNI</td>\n",
       "    </tr>\n",
       "    <tr>\n",
       "      <th>2</th>\n",
       "      <td>e590a0b2-dc59-49e0-a6c2-115e9410cf2c-i0b0</td>\n",
       "      <td>ccd2911169a073c71cd7144800c81c6391ad43c31df97f...</td>\n",
       "      <td>12</td>\n",
       "      <td>2010-02-09</td>\n",
       "      <td>F</td>\n",
       "      <td>1</td>\n",
       "      <td>BRANCA</td>\n",
       "      <td>120040.0</td>\n",
       "      <td>10.0</td>\n",
       "      <td>RIO BRANCO</td>\n",
       "      <td>...</td>\n",
       "      <td>NaN</td>\n",
       "      <td>NaN</td>\n",
       "      <td>FP8290</td>\n",
       "      <td>PFIZER - PEDI?TRICA</td>\n",
       "      <td>28290</td>\n",
       "      <td>2022-03-21</td>\n",
       "      <td>2ª Dose</td>\n",
       "      <td>99</td>\n",
       "      <td>COVID-19 PEDIÁTRICA - PFIZER COMIRNATY</td>\n",
       "      <td>Novo PNI</td>\n",
       "    </tr>\n",
       "    <tr>\n",
       "      <th>5</th>\n",
       "      <td>51d78810-e94e-4a49-84b4-c67d3922a356-i0b0</td>\n",
       "      <td>018bcc9fde47ed79da86fa34088d8fdaa871f69aabf991...</td>\n",
       "      <td>8</td>\n",
       "      <td>2013-06-05</td>\n",
       "      <td>M</td>\n",
       "      <td>3</td>\n",
       "      <td>PARDA</td>\n",
       "      <td>120030.0</td>\n",
       "      <td>10.0</td>\n",
       "      <td>FEIJO</td>\n",
       "      <td>...</td>\n",
       "      <td>NaN</td>\n",
       "      <td>NaN</td>\n",
       "      <td>FP1176</td>\n",
       "      <td>PFIZER</td>\n",
       "      <td>Organization/28290</td>\n",
       "      <td>2022-01-28</td>\n",
       "      <td>1ª Dose</td>\n",
       "      <td>87</td>\n",
       "      <td>COVID-19 PFIZER - COMIRNATY</td>\n",
       "      <td>Novo PNI</td>\n",
       "    </tr>\n",
       "    <tr>\n",
       "      <th>9</th>\n",
       "      <td>51e59f30-0f63-4684-820e-96c6b6d88ecb-i0b0</td>\n",
       "      <td>f72b5f8a2103160a036af6c4c1c810e8d05892b38fa317...</td>\n",
       "      <td>11</td>\n",
       "      <td>2011-02-05</td>\n",
       "      <td>F</td>\n",
       "      <td>99</td>\n",
       "      <td>SEM INFORMACAO</td>\n",
       "      <td>120080.0</td>\n",
       "      <td>10.0</td>\n",
       "      <td>PORTO ACRE</td>\n",
       "      <td>...</td>\n",
       "      <td>NaN</td>\n",
       "      <td>NaN</td>\n",
       "      <td>FN4073</td>\n",
       "      <td>PFIZER - PEDI?TRICA</td>\n",
       "      <td>28290</td>\n",
       "      <td>2022-07-26</td>\n",
       "      <td>2ª Dose</td>\n",
       "      <td>99</td>\n",
       "      <td>COVID-19 PEDIÁTRICA - PFIZER COMIRNATY</td>\n",
       "      <td>Novo PNI</td>\n",
       "    </tr>\n",
       "    <tr>\n",
       "      <th>11</th>\n",
       "      <td>51fbe29c-8623-4e1d-a8b7-772f6514112b-i0b0</td>\n",
       "      <td>fd42e98fdd73dc65dbf5583b2d9be21f75ce690e40a3e7...</td>\n",
       "      <td>2</td>\n",
       "      <td>2020-10-11</td>\n",
       "      <td>F</td>\n",
       "      <td>3</td>\n",
       "      <td>PARDA</td>\n",
       "      <td>120040.0</td>\n",
       "      <td>10.0</td>\n",
       "      <td>RIO BRANCO</td>\n",
       "      <td>...</td>\n",
       "      <td>NaN</td>\n",
       "      <td>NaN</td>\n",
       "      <td>GC9016</td>\n",
       "      <td>PFIZER - PEDIÁTRICA MENOR DE 5 ANOS</td>\n",
       "      <td>28290</td>\n",
       "      <td>2022-12-10</td>\n",
       "      <td>1ª Dose</td>\n",
       "      <td>102</td>\n",
       "      <td>COVID-19 PFIZER - COMIRNATY PEDIÁTRICA MENOR D...</td>\n",
       "      <td>Novo PNI</td>\n",
       "    </tr>\n",
       "  </tbody>\n",
       "</table>\n",
       "<p>5 rows × 32 columns</p>\n",
       "</div>"
      ],
      "text/plain": [
       "                                  document_id  \\\n",
       "0   be326d7c-dcde-400e-a701-b4ffed4039fe-i0b0   \n",
       "2   e590a0b2-dc59-49e0-a6c2-115e9410cf2c-i0b0   \n",
       "5   51d78810-e94e-4a49-84b4-c67d3922a356-i0b0   \n",
       "9   51e59f30-0f63-4684-820e-96c6b6d88ecb-i0b0   \n",
       "11  51fbe29c-8623-4e1d-a8b7-772f6514112b-i0b0   \n",
       "\n",
       "                                          paciente_id  paciente_idade  \\\n",
       "0   a7debef33553c6eabb36cd08eb6592761ef81e63766587...              12   \n",
       "2   ccd2911169a073c71cd7144800c81c6391ad43c31df97f...              12   \n",
       "5   018bcc9fde47ed79da86fa34088d8fdaa871f69aabf991...               8   \n",
       "9   f72b5f8a2103160a036af6c4c1c810e8d05892b38fa317...              11   \n",
       "11  fd42e98fdd73dc65dbf5583b2d9be21f75ce690e40a3e7...               2   \n",
       "\n",
       "   paciente_dataNascimento paciente_enumSexoBiologico  \\\n",
       "0               2009-12-29                          M   \n",
       "2               2010-02-09                          F   \n",
       "5               2013-06-05                          M   \n",
       "9               2011-02-05                          F   \n",
       "11              2020-10-11                          F   \n",
       "\n",
       "    paciente_racaCor_codigo paciente_racaCor_valor  \\\n",
       "0                         3                  PARDA   \n",
       "2                         1                 BRANCA   \n",
       "5                         3                  PARDA   \n",
       "9                        99         SEM INFORMACAO   \n",
       "11                        3                  PARDA   \n",
       "\n",
       "    paciente_endereco_coIbgeMunicipio  paciente_endereco_coPais  \\\n",
       "0                            352050.0                      10.0   \n",
       "2                            120040.0                      10.0   \n",
       "5                            120030.0                      10.0   \n",
       "9                            120080.0                      10.0   \n",
       "11                           120040.0                      10.0   \n",
       "\n",
       "   paciente_endereco_nmMunicipio  ... vacina_categoria_codigo  \\\n",
       "0                     INDAIATUBA  ...                     2.0   \n",
       "2                     RIO BRANCO  ...                     NaN   \n",
       "5                          FEIJO  ...                     NaN   \n",
       "9                     PORTO ACRE  ...                     NaN   \n",
       "11                    RIO BRANCO  ...                     NaN   \n",
       "\n",
       "   vacina_categoria_nome  vacina_lote               vacina_fabricante_nome  \\\n",
       "0           Faixa Etária       220250                     SINOVAC/BUTANTAN   \n",
       "2                    NaN       FP8290                  PFIZER - PEDI?TRICA   \n",
       "5                    NaN       FP1176                               PFIZER   \n",
       "9                    NaN       FN4073                  PFIZER - PEDI?TRICA   \n",
       "11                   NaN       GC9016  PFIZER - PEDIÁTRICA MENOR DE 5 ANOS   \n",
       "\n",
       "    vacina_fabricante_referencia vacina_dataAplicacao vacina_descricao_dose  \\\n",
       "0                            152           2022-11-10               2ª Dose   \n",
       "2                          28290           2022-03-21               2ª Dose   \n",
       "5             Organization/28290           2022-01-28               1ª Dose   \n",
       "9                          28290           2022-07-26               2ª Dose   \n",
       "11                         28290           2022-12-10               1ª Dose   \n",
       "\n",
       "    vacina_codigo                                        vacina_nome  \\\n",
       "0              86              COVID-19 SINOVAC/BUTANTAN - CORONAVAC   \n",
       "2              99             COVID-19 PEDIÁTRICA - PFIZER COMIRNATY   \n",
       "5              87                        COVID-19 PFIZER - COMIRNATY   \n",
       "9              99             COVID-19 PEDIÁTRICA - PFIZER COMIRNATY   \n",
       "11            102  COVID-19 PFIZER - COMIRNATY PEDIÁTRICA MENOR D...   \n",
       "\n",
       "   sistema_origem  \n",
       "0        Novo PNI  \n",
       "2        Novo PNI  \n",
       "5        Novo PNI  \n",
       "9        Novo PNI  \n",
       "11       Novo PNI  \n",
       "\n",
       "[5 rows x 32 columns]"
      ]
     },
     "execution_count": 48,
     "metadata": {},
     "output_type": "execute_result"
    }
   ],
   "source": [
    "# 1) Seu código aqui\n",
    "vacinacao_acre_menor_18 = vacinacao_acre.loc[vacinacao_acre['paciente_idade'] < 18]\n",
    "vacinacao_acre_menor_18.head(5)"
   ]
  },
  {
   "cell_type": "code",
   "execution_count": 56,
   "metadata": {
    "id": "sLyevPRBC8-8"
   },
   "outputs": [
    {
     "data": {
      "text/plain": [
       "Index(['document_id', 'paciente_id', 'paciente_idade',\n",
       "       'paciente_dataNascimento', 'paciente_enumSexoBiologico',\n",
       "       'paciente_racaCor_codigo', 'paciente_racaCor_valor',\n",
       "       'paciente_endereco_coIbgeMunicipio', 'paciente_endereco_coPais',\n",
       "       'paciente_endereco_nmMunicipio', 'paciente_endereco_nmPais',\n",
       "       'paciente_endereco_uf', 'paciente_endereco_cep',\n",
       "       'paciente_nacionalidade_enumNacionalidade', 'estabelecimento_valor',\n",
       "       'estabelecimento_razaoSocial', 'estalecimento_noFantasia',\n",
       "       'estabelecimento_municipio_codigo', 'estabelecimento_municipio_nome',\n",
       "       'estabelecimento_uf', 'vacina_grupoAtendimento_codigo',\n",
       "       'vacina_grupoAtendimento_nome', 'vacina_categoria_codigo',\n",
       "       'vacina_categoria_nome', 'vacina_lote', 'vacina_fabricante_nome',\n",
       "       'vacina_fabricante_referencia', 'vacina_dataAplicacao',\n",
       "       'vacina_descricao_dose', 'vacina_codigo', 'vacina_nome',\n",
       "       'sistema_origem'],\n",
       "      dtype='object')"
      ]
     },
     "execution_count": 56,
     "metadata": {},
     "output_type": "execute_result"
    }
   ],
   "source": [
    "# 2) Seu código aqui\n",
    "vacinacao_acre_menor_18.columns.unique()"
   ]
  },
  {
   "cell_type": "code",
   "execution_count": 58,
   "metadata": {
    "id": "lZAW-Dp8C8-8"
   },
   "outputs": [
    {
     "data": {
      "text/plain": [
       "array(['Faixa Etária', nan, 'Outros', 'Povos Indígenas',\n",
       "       'Povos e Comunidades Tradicionais', 'Trabalhadores de Saúde',\n",
       "       'Gestantes', 'Pessoas com Deficiência',\n",
       "       'Pessoas de 60 anos ou mais institucionalizadas',\n",
       "       'População Privada de Liberdade', 'Trabalhadores de Transporte',\n",
       "       'Comorbidades', 'Trabalhadores da Educação',\n",
       "       'Pessoas Institucionalizadas', 'Puérperas'], dtype=object)"
      ]
     },
     "execution_count": 58,
     "metadata": {},
     "output_type": "execute_result"
    }
   ],
   "source": [
    "# 3) Seu código aqui\n",
    "vacinacao_acre_menor_18['vacina_categoria_nome'].unique()"
   ]
  },
  {
   "cell_type": "code",
   "execution_count": 60,
   "metadata": {
    "id": "xxYsxrxAC8-8"
   },
   "outputs": [
    {
     "data": {
      "text/plain": [
       "array(['SINOVAC/BUTANTAN', 'PFIZER - PEDI?TRICA', 'PFIZER',\n",
       "       'PFIZER - PEDIÁTRICA MENOR DE 5 ANOS', 'BUTANTAN',\n",
       "       'Pendente Identificação', 'SINOVAC', 'PFIZER - PEDIÁTRICA',\n",
       "       'ASTRAZENECA/FIOCRUZ', 'Pendente Identifica??o', 'JANSSEN'],\n",
       "      dtype=object)"
      ]
     },
     "execution_count": 60,
     "metadata": {},
     "output_type": "execute_result"
    }
   ],
   "source": [
    "# 4) Seu código aqui\n",
    "# observação: estabelecimentos = fabricantes da vacina\n",
    "vacinacao_acre_menor_18['vacina_fabricante_nome'].unique()"
   ]
  }
 ],
 "metadata": {
  "colab": {
   "provenance": []
  },
  "kernelspec": {
   "display_name": "Python 3 (ipykernel)",
   "language": "python",
   "name": "python3"
  },
  "language_info": {
   "codemirror_mode": {
    "name": "ipython",
    "version": 3
   },
   "file_extension": ".py",
   "mimetype": "text/x-python",
   "name": "python",
   "nbconvert_exporter": "python",
   "pygments_lexer": "ipython3",
   "version": "3.12.4"
  },
  "toc": {
   "base_numbering": 1,
   "nav_menu": {},
   "number_sections": false,
   "sideBar": true,
   "skip_h1_title": true,
   "title_cell": "Índice",
   "title_sidebar": "Conteúdo",
   "toc_cell": false,
   "toc_position": {},
   "toc_section_display": true,
   "toc_window_display": false
  },
  "varInspector": {
   "cols": {
    "lenName": 16,
    "lenType": 16,
    "lenVar": 40
   },
   "kernels_config": {
    "python": {
     "delete_cmd_postfix": "",
     "delete_cmd_prefix": "del ",
     "library": "var_list.py",
     "varRefreshCmd": "print(var_dic_list())"
    },
    "r": {
     "delete_cmd_postfix": ") ",
     "delete_cmd_prefix": "rm(",
     "library": "var_list.r",
     "varRefreshCmd": "cat(var_dic_list()) "
    }
   },
   "types_to_exclude": [
    "module",
    "function",
    "builtin_function_or_method",
    "instance",
    "_Feature"
   ],
   "window_display": false
  }
 },
 "nbformat": 4,
 "nbformat_minor": 4
}
